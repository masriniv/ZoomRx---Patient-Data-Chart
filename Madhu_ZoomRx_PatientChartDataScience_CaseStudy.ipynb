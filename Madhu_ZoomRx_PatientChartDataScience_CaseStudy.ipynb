{
 "cells": [
  {
   "cell_type": "markdown",
   "metadata": {},
   "source": [
    "# Predicting the theraphy / drug for a rare disease and the duration for taking the theraphy / drug."
   ]
  },
  {
   "cell_type": "code",
   "execution_count": null,
   "metadata": {
    "collapsed": true
   },
   "outputs": [],
   "source": [
    "####### Reading the Data and Importing the required Python packages ##########"
   ]
  },
  {
   "cell_type": "code",
   "execution_count": null,
   "metadata": {
    "collapsed": true
   },
   "outputs": [],
   "source": [
    "import pandas as pd\n",
    "import numpy as np\n",
    "import matplotlib.pyplot as plt\n",
    "import seaborn as sns\n",
    "from sklearn.preprocessing import scale\n",
    "from sklearn.cross_validation import train_test_split\n",
    "from sklearn.metrics import accuracy_score\n",
    "from sklearn.cross_validation import cross_val_score\n",
    "\n",
    "### Reading Data ######\n",
    "\n",
    "PatientData = pd.ExcelFile('E:/ZoomRx/ZoomRx - Patient Charts Data Science Case Study.xlsx')\n",
    "PatientData_Training = pd.read_excel(PatientData, 'Training Data')\n",
    "PatientData_Test = pd.read_excel(PatientData, 'Testing Data')\n",
    "\n",
    "#### Reshaping the Training data #######\n",
    "PatientData_Training =  PatientData_Training.drop(PatientData_Training.index[[0]])\n",
    "\n",
    "PatientData_Training = PatientData_Training.reset_index(drop=True)\n",
    "\n",
    "PatientData_Training.columns = PatientData_Training.iloc[0]\n",
    "\n",
    "PatientData_Training =  PatientData_Training.drop(PatientData_Training.index[[0]])\n",
    "\n",
    "PatientData_Training = PatientData_Training.reset_index(drop=True)\n",
    "\n",
    "del PatientData_Training[\"Question ID -->\"]\n",
    "\n",
    "PatientData_Training.columns = ['Patient ID #','Date of survey completion','Q1_10_1', 'Q1_10_2',\n",
    "'Q1_10_3', 'Q1_23', 'Q1_24', 'Q1_25_1', 'Q1_25_2', 'Q1_25_3', 'Q1_25_4',\n",
    "'Q1_25_5', 'Q1_25_6', 'Q1_25_7', 'Q1_25_8', 'Q1_25_9', 'Q1_25_10',\n",
    "'Q1_25_11', 'Q1_25_12', 'Q1_40', 'Q2_05', 'Q2_10', 'Q2_15', 'Q2_16',\n",
    "'Q2_20', 'Q2_24', 'Q2_25', 'Q2_55_1', 'Q2_55_2', 'Q2_55_3', 'Q2_55_4',\n",
    "'Q2_55_5', 'Q2_55_6', 'Q2_55_7', 'Q2_55_8', 'Q2_55_9', 'Q2_55_10',\n",
    "'Q2_55_11', 'Q2_55_12', 'Q2_55_13', 'Q2_55_14', 'Q2_55_15', 'Q2_55_16',\n",
    "'Q2_55_17', 'Q2_55_18', 'Q2_55_19', 'Q2_55_20', 'Q2_100', 'Q2_125_1',\n",
    "'Q2_125_2', 'Q2_125_3', 'Q2_125_4', 'Q2_125_5', 'Q2_125_6', 'Q2_125_7',\n",
    "'Q2_125_8', 'Q2_125_9', 'Q2_125_10', 'Q2_125_11', 'Q2_125_12',\n",
    "'Q2_125_13', 'Q2_127', 'Q2_130', 'Q3_10', 'Q3_20', 'Q3_30', 'Q3_40_1',\n",
    "'Q3_40_2', 'Q3_40_3', 'Q3_40_4','Q2_40','Q2_65']\n",
    "\n",
    "#### Reshaping the Testing data #######\n",
    "PatientData_Test =  PatientData_Test.drop(PatientData_Training.index[[0]])\n",
    "\n",
    "PatientData_Test = PatientData_Test.reset_index(drop=True)\n",
    "\n",
    "PatientData_Test.columns = PatientData_Test.iloc[0]\n",
    "\n",
    "PatientData_Test =  PatientData_Test.drop(PatientData_Training.index[[0]])\n",
    "\n",
    "PatientData_Test = PatientData_Test.reset_index(drop=True)\n",
    "\n",
    "del PatientData_Test[\"Question ID -->\"]\n",
    "\n",
    "PatientData_Test.columns = ['Patient ID #','Date of survey completion','Q1_10_1', 'Q1_10_2',\n",
    "'Q1_10_3', 'Q1_23', 'Q1_24', 'Q1_25_1', 'Q1_25_2', 'Q1_25_3', 'Q1_25_4',\n",
    "'Q1_25_5', 'Q1_25_6', 'Q1_25_7', 'Q1_25_8', 'Q1_25_9', 'Q1_25_10',\n",
    "'Q1_25_11', 'Q1_25_12', 'Q1_40', 'Q2_05', 'Q2_10', 'Q2_15', 'Q2_16',\n",
    "'Q2_20', 'Q2_24', 'Q2_25', 'Q2_55_1', 'Q2_55_2', 'Q2_55_3', 'Q2_55_4',\n",
    "'Q2_55_5', 'Q2_55_6', 'Q2_55_7', 'Q2_55_8', 'Q2_55_9', 'Q2_55_10',\n",
    "'Q2_55_11', 'Q2_55_12', 'Q2_55_13', 'Q2_55_14', 'Q2_55_15', 'Q2_55_16',\n",
    "'Q2_55_17', 'Q2_55_18', 'Q2_55_19', 'Q2_55_20', 'Q2_100', 'Q2_125_1',\n",
    "'Q2_125_2', 'Q2_125_3', 'Q2_125_4', 'Q2_125_5', 'Q2_125_6', 'Q2_125_7',\n",
    "'Q2_125_8', 'Q2_125_9', 'Q2_125_10', 'Q2_125_11', 'Q2_125_12',\n",
    "'Q2_125_13', 'Q2_127', 'Q2_130', 'Q3_10', 'Q3_20', 'Q3_30', 'Q3_40_1',\n",
    "'Q3_40_2', 'Q3_40_3', 'Q3_40_4','Q2_40','Q2_65']\n"
   ]
  },
  {
   "cell_type": "markdown",
   "metadata": {},
   "source": [
    "# Drug / Theraphy Prediction"
   ]
  },
  {
   "cell_type": "code",
   "execution_count": null,
   "metadata": {
    "collapsed": true
   },
   "outputs": [],
   "source": [
    "##### Playing around the Training Data fro further analysis ######"
   ]
  },
  {
   "cell_type": "code",
   "execution_count": null,
   "metadata": {
    "collapsed": true
   },
   "outputs": [],
   "source": [
    "# Training Data without Q2_65 - The intended duration of the prescribed therapy\n",
    "PatientData_Training_new = PatientData_Training.iloc[:,0:71]\n",
    "\n",
    "PatientData_Training_new.columns\n",
    "PatientData_Training_new.dtypes\n",
    "\n",
    "# Deleting 'Date of survey completion','Q2_05'-The date when the patient was originally diagnosed with the rare\n",
    "# disease,'Patient ID #' columns from the dataframe as they are not required for the prediction\n",
    "\n",
    "del PatientData_Training_new['Date of survey completion']\n",
    "del PatientData_Training_new['Q2_05']\n",
    "del PatientData_Training_new['Patient ID #']"
   ]
  },
  {
   "cell_type": "code",
   "execution_count": null,
   "metadata": {
    "collapsed": true
   },
   "outputs": [],
   "source": [
    "#### Identifying the Dependent and Independent variables ######"
   ]
  },
  {
   "cell_type": "code",
   "execution_count": null,
   "metadata": {
    "collapsed": true
   },
   "outputs": [],
   "source": [
    "# Dependent Variable (DV) = 'Q2_40'\n",
    "# Independent Variable (IDV) ='Q1_10_1', 'Q1_10_2',\n",
    "#       'Q1_10_3', 'Q1_23', 'Q1_24', 'Q1_25_1', 'Q1_25_2', 'Q1_25_3', 'Q1_25_4',\n",
    "#       'Q1_25_5', 'Q1_25_6', 'Q1_25_7', 'Q1_25_8', 'Q1_25_9', 'Q1_25_10',\n",
    "#       'Q1_25_11', 'Q1_25_12', 'Q1_40', 'Q2_05', 'Q2_10', 'Q2_15', 'Q2_16',\n",
    "#       'Q2_20', 'Q2_24', 'Q2_25', 'Q2_55_1', 'Q2_55_2', 'Q2_55_3', 'Q2_55_4',\n",
    "#       'Q2_55_5', 'Q2_55_6', 'Q2_55_7', 'Q2_55_8', 'Q2_55_9', 'Q2_55_10',\n",
    "#       'Q2_55_11', 'Q2_55_12', 'Q2_55_13', 'Q2_55_14', 'Q2_55_15', 'Q2_55_16',\n",
    "#       'Q2_55_17', 'Q2_55_18', 'Q2_55_19', 'Q2_55_20', 'Q2_100', 'Q2_125_1',\n",
    "#       'Q2_125_2', 'Q2_125_3', 'Q2_125_4', 'Q2_125_5', 'Q2_125_6', 'Q2_125_7',\n",
    "#       'Q2_125_8', 'Q2_125_9', 'Q2_125_10', 'Q2_125_11', 'Q2_125_12',\n",
    "#       'Q2_125_13', 'Q2_127', 'Q2_130', 'Q3_10', 'Q3_20', 'Q3_30', 'Q3_40_1',\n",
    "#       'Q3_40_2', 'Q3_40_3', 'Q3_40_4'"
   ]
  },
  {
   "cell_type": "code",
   "execution_count": null,
   "metadata": {
    "collapsed": true
   },
   "outputs": [],
   "source": [
    "# Checking the correlation between the variables\n",
    "PatientData_Training_CorrelationMatrix = PatientData_Training_new.corr()"
   ]
  },
  {
   "cell_type": "code",
   "execution_count": null,
   "metadata": {
    "collapsed": true
   },
   "outputs": [],
   "source": [
    "# Checking the diiferent class of theraphy  \n",
    "Number_of_unique_Theraphy = list (set(PatientData_Training_new[\"Q2_40\"]))"
   ]
  },
  {
   "cell_type": "code",
   "execution_count": null,
   "metadata": {
    "collapsed": true
   },
   "outputs": [],
   "source": [
    "# There are many categorical columns that has to be encoded\n",
    "\n",
    "# Using LabelEncoder to encode categorical variables\n",
    "\n",
    "# Getting the categorical columns\n",
    "cols = PatientData_Training_new.columns\n",
    "num_cols = PatientData_Training_new._get_numeric_data().columns\n",
    "list(set(cols) - set(num_cols))\n",
    "\n",
    "from sklearn.preprocessing import LabelEncoder\n",
    "var_mod = [\n",
    " 'Q2_25',\n",
    " 'Q1_10_2',\n",
    " 'Q3_20',\n",
    " 'Q2_16',\n",
    " 'Q2_20',\n",
    " 'Q1_23',\n",
    " 'Q2_24',\n",
    " 'Q3_30',\n",
    " 'Q1_40',\n",
    " 'Q2_15',\n",
    " 'Q2_10',\n",
    " 'Q3_10',\n",
    " 'Q1_10_3',\n",
    " 'Q2_127',\n",
    " 'Q2_130']\n",
    "le = LabelEncoder()\n",
    "for i in var_mod:\n",
    "    mask = ~PatientData_Training_new[i].isnull()\n",
    "    PatientData_Training_new[i][mask] = le.fit_transform(PatientData_Training_new[i][mask])"
   ]
  },
  {
   "cell_type": "code",
   "execution_count": null,
   "metadata": {
    "collapsed": true
   },
   "outputs": [],
   "source": [
    "# Filling \"nan\" with mean of each column\n",
    "PatientData_Training_new = PatientData_Training_new.fillna(PatientData_Training_new.mean())"
   ]
  },
  {
   "cell_type": "code",
   "execution_count": null,
   "metadata": {
    "collapsed": true
   },
   "outputs": [],
   "source": [
    "# Exploratory Analysis using some variables to see the distinction between the drug/theraphy classes\n",
    "\n",
    "sns.lmplot(\"Q1_10_1\",\"Q2_55_3\", data = PatientData_Training_new, \n",
    "           hue = \"Q2_40\", fit_reg = False )\n",
    "\n",
    "PatientData_Training_new.boxplot(column = \"Q1_10_1\", by = \"Q2_40\") \n",
    "PatientData_Training_new.boxplot(column = \"Q2_20\", by = \"Q2_40\") "
   ]
  },
  {
   "cell_type": "code",
   "execution_count": null,
   "metadata": {
    "collapsed": true
   },
   "outputs": [],
   "source": [
    "# Training - Test Split of \"PatientData_Training_new\" data for building classification models for drug prediction on Test data\n",
    "\n",
    "X_PDT_train, X_PDT_test, y_PDT_train, y_PDT_test = \\\n",
    "    train_test_split(PatientData_Training_new.iloc[:,0:67], \n",
    "                     PatientData_Training_new.iloc[:,67], \n",
    "                     test_size=0.3, random_state= 30)\n",
    "y_PDT_train.value_counts()\n",
    "y_PDT_test.value_counts()"
   ]
  },
  {
   "cell_type": "markdown",
   "metadata": {},
   "source": [
    "# Building KNN Model for Drug Classification"
   ]
  },
  {
   "cell_type": "code",
   "execution_count": null,
   "metadata": {
    "collapsed": true
   },
   "outputs": [],
   "source": [
    "# Building K Nearest Neighbors model on training data\n",
    "from sklearn.neighbors import KNeighborsClassifier\n",
    "Prescribed_theraphy_knn = KNeighborsClassifier().fit(X_PDT_train,y_PDT_train)\n",
    "\n",
    "# Theraphy Prediction based on the KNN model built on training data\n",
    "predicted_Theraphy_knn = Prescribed_theraphy_knn.predict(X_PDT_test)\n",
    "actual_Theraphy_knn = y_PDT_test\n",
    "\n",
    "# Confusion matrix\n",
    "pd.crosstab(actual_Theraphy_knn,predicted_Theraphy_knn,\n",
    "            rownames = [\"Actual Theraphy Class\"],\n",
    "            colnames = [\"Predicted Theraphy Class\"])\n",
    "\n",
    "# Checking Accuracy Score\n",
    "accuracy_score(actual_Theraphy_knn,predicted_Theraphy_knn)\n",
    "# 69.03 %"
   ]
  },
  {
   "cell_type": "code",
   "execution_count": null,
   "metadata": {
    "collapsed": true
   },
   "outputs": [],
   "source": [
    "# Checking Accuracy for different K values\n",
    "\n",
    "accuracy_all = pd.Series([0.0]*20, index = range(1,21))\n",
    "for k in range(1,21):\n",
    "    Prescribed_theraphy_knn = KNeighborsClassifier(n_neighbors = k).fit(X_PDT_train,y_PDT_train)\n",
    "    predicted_Theraphy_knn = Prescribed_theraphy_knn.predict(X_PDT_test)\n",
    "    accuracy_all[k] = accuracy_score(y_PDT_test,predicted_Theraphy_knn)\n",
    "\n",
    "accuracy_all_rnd_30 = accuracy_all.copy()\n",
    "# Accuracy is max of 69.03% at K= 5"
   ]
  },
  {
   "cell_type": "markdown",
   "metadata": {},
   "source": [
    "# Trying to improve accuracy further by reducing dimentionality with Principal Component Analysis [PCA]"
   ]
  },
  {
   "cell_type": "code",
   "execution_count": null,
   "metadata": {
    "collapsed": true
   },
   "outputs": [],
   "source": [
    "from sklearn.decomposition import PCA\n",
    "\n",
    "newPTD = PatientData_Training_new.iloc[:,0:67]\n",
    "newPTD_corr = newPTD.corr()\n",
    "\n",
    "# Scaling\n",
    "\n",
    "newPTD_scaled= pd.DataFrame(scale(newPTD))\n",
    "newPTD_scaled.columns = newPTD.columns\n",
    "\n",
    "# Correlation comparison between scaled and unscaled data:\n",
    "newPTD_scaled_corr =  newPTD_scaled.corr()\n",
    "newPTD_corr = newPTD.corr()\n",
    "# correlation doesn't get affected due to scaling\n",
    "\n",
    "# PCA Model buildng\n",
    "newPTDpca = PCA().fit(newPTD_scaled)\n",
    "newPTD_projected = pd.DataFrame(newPTDpca.transform(newPTD_scaled))\n",
    "\n",
    "# Dim1, Dim2, Dim3.... Dim67\n",
    "newPTD_projected.columns = [\"Dim\" + str(i) for i in range(0,67)]\n",
    "\n",
    "# Explained Variance Ratio\n",
    "sum(newPTDpca.explained_variance_ratio_)\n",
    "np.cumsum(newPTDpca.explained_variance_ratio_)\n",
    "# With 35 variables we will get more than 70% variance in the data"
   ]
  },
  {
   "cell_type": "markdown",
   "metadata": {},
   "source": [
    "# Building different Classification Models on the PCA Projected data and checking accuracy\n",
    "\n",
    "# KNN, Gaussian Naive Baye's, Decision Tree, Random Forest "
   ]
  },
  {
   "cell_type": "code",
   "execution_count": null,
   "metadata": {
    "collapsed": true
   },
   "outputs": [],
   "source": [
    "PTD_New = newPTD_projected.iloc[:,0:35]\n",
    "PTD_New[\"Theraphy\"] = PatientData_Training_new.iloc[:,67]\n",
    "\n",
    "X_PDT_train, X_PDT_test, y_PDT_train, y_PDT_test = \\\n",
    "    train_test_split(PTD_New.iloc[:,0:35], \n",
    "                     PTD_New.iloc[:,35], \n",
    "                     test_size=0.3, random_state= 30)\n",
    "y_PDT_train.value_counts()\n",
    "y_PDT_test.value_counts()\n",
    "\n",
    "################### KNN ###################################################################\n",
    "\n",
    "Prescribed_theraphy_knn = KNeighborsClassifier(n_neighbors = 5,weights= 'distance', algorithm= 'brute').fit(X_PDT_train,y_PDT_train)\n",
    "\n",
    "# Theraphy Prediction based on the KNN model built on training data\n",
    "predicted_Theraphy_knn = Prescribed_theraphy_knn.predict(X_PDT_test)\n",
    "actual_Theraphy_knn = y_PDT_test\n",
    "\n",
    "# Confusion matrix\n",
    "pd.crosstab(actual_Theraphy_knn,predicted_Theraphy_knn,\n",
    "            rownames = [\"Actual Theraphy Class\"],\n",
    "            colnames = [\"Predicted Theraphy Class\"])\n",
    "\n",
    "accuracy_score(actual_Theraphy_knn,predicted_Theraphy_knn)\n",
    "# 71.34%\n",
    "\n",
    "np.mean(cross_val_score(KNeighborsClassifier(n_neighbors = 5,weights= 'distance', algorithm= 'brute'),\n",
    "                PTD_New.iloc[:,0:35], PTD_New.iloc[:,35], \n",
    "                cv = 10))\n",
    "\n",
    "# Cross Validation Score: 70.55%\n",
    "\n",
    "################ Gaussian Naive Baye's#######################################################################\n",
    "\n",
    "from sklearn.naive_bayes import GaussianNB\n",
    "PD_nb = GaussianNB().fit(X_PDT_train,y_PDT_train)\n",
    "predicted_Theraphy_nb = PD_nb.predict(X_PDT_test)\n",
    "pd.crosstab(y_PDT_test,predicted_Theraphy_nb,\n",
    "            rownames = [\"Actual Theraphy Class\"],\n",
    "            colnames = [\"Predicted Theraphy Class\"])\n",
    "\n",
    "accuracy_score(y_PDT_test,predicted_Theraphy_nb)\n",
    "\n",
    "#51.16%\n",
    "\n",
    "############# Decision Tree ################################################################################\n",
    "\n",
    "from sklearn.tree import DecisionTreeClassifier\n",
    "np.mean(cross_val_score(DecisionTreeClassifier(),\n",
    "               PTD_New.iloc[:,0:35], PTD_New.iloc[:,35], \n",
    "                cv = 10))\n",
    "#58.03%\n",
    "\n",
    "############# Random Forest #################################################################################\n",
    "\n",
    "from sklearn.ensemble import RandomForestClassifier\n",
    "np.mean(cross_val_score(RandomForestClassifier(),\n",
    "               PTD_New.iloc[:,0:35], PTD_New.iloc[:,35], \n",
    "                cv = 10))\n",
    "#68.8%"
   ]
  },
  {
   "cell_type": "code",
   "execution_count": null,
   "metadata": {
    "collapsed": true
   },
   "outputs": [],
   "source": [
    "### PCA didn't help much with improving accuracy, rather reduced the accuracy as there are many categorical variables. \n",
    "### So we infer that PCA is insignificant on categorical variables"
   ]
  },
  {
   "cell_type": "markdown",
   "metadata": {},
   "source": [
    "# Trying to improve accuracy by building Ensemble Models - Gradient Boosting directly on the Training Data without PCA"
   ]
  },
  {
   "cell_type": "code",
   "execution_count": null,
   "metadata": {
    "collapsed": true
   },
   "outputs": [],
   "source": [
    "# Improving Accuracy with Ensemble Methods - Gradient Boosting\n",
    "from sklearn.ensemble import GradientBoostingClassifier\n",
    "\n",
    "PD_gb = GradientBoostingClassifier().fit(X_PDT_train,y_PDT_train)\n",
    "predicted_Theraphy_nb = PD_gb.predict(X_PDT_test)\n",
    "pd.crosstab(y_PDT_test,predicted_Theraphy_nb,\n",
    "            rownames = [\"Actual Theraphy Class\"],\n",
    "            colnames = [\"Predicted Theraphy Class\"])\n",
    "\n",
    "accuracy_score(y_PDT_test,predicted_Theraphy_nb)\n",
    "# 85.44%"
   ]
  },
  {
   "cell_type": "code",
   "execution_count": null,
   "metadata": {
    "collapsed": true
   },
   "outputs": [],
   "source": [
    "# Gradient Boosting has significantly increased the accuracy to 85.44%. \n",
    "# Therefore, we proceed with Gradient Boosting model for predicting the Drug / Theraphy on Test Data"
   ]
  },
  {
   "cell_type": "markdown",
   "metadata": {},
   "source": [
    "# A. Predicting the Drugs to be prescribed per patient for the rare disease"
   ]
  },
  {
   "cell_type": "code",
   "execution_count": null,
   "metadata": {
    "collapsed": true
   },
   "outputs": [],
   "source": [
    "####################### Test Data Theraphy Predictions ##########################\n",
    "##### (a) the drug that apatient suffering from this rare disease is most likely to receive ######\n",
    "\n",
    "\n",
    "PatientData_Test_new = PatientData_Test.iloc[:,0:71]\n",
    "\n",
    "PatientData_Test_new.columns\n",
    "\n",
    "del PatientData_Test_new['Date of survey completion']\n",
    "del PatientData_Test_new['Q2_05']\n",
    "del PatientData_Test_new['Patient ID #']\n",
    "\n",
    "\n",
    "# Using LabelEncoder to encode categorical variables\n",
    "\n",
    "# Getting the categorical columns\n",
    "cols = PatientData_Test_new.columns\n",
    "num_cols = PatientData_Test_new._get_numeric_data().columns\n",
    "list(set(cols) - set(num_cols))\n",
    "\n",
    "from sklearn.preprocessing import LabelEncoder\n",
    "var_mod = [\n",
    " 'Q2_25',\n",
    " 'Q1_10_2',\n",
    " 'Q3_20',\n",
    " 'Q2_16',\n",
    " 'Q2_20',\n",
    " 'Q1_23',\n",
    " 'Q2_24',\n",
    " 'Q3_30',\n",
    " 'Q1_40',\n",
    " 'Q2_15',\n",
    " 'Q2_10',\n",
    " 'Q3_10',\n",
    " 'Q1_10_3',\n",
    " 'Q2_127',\n",
    " 'Q2_130']\n",
    "le = LabelEncoder()\n",
    "for i in var_mod:\n",
    "    mask = ~PatientData_Test_new[i].isnull()\n",
    "    PatientData_Test_new[i][mask] = le.fit_transform(PatientData_Test_new[i][mask])\n",
    "\n",
    "# Filling \"nan\" with mean of each column\n",
    "PatientData_Test_new = PatientData_Test_new.fillna(PatientData_Test_new.mean())\n",
    "\n",
    "newPTD_test = PatientData_Test_new.iloc[:,0:67]\n",
    "\n",
    "predicted_Test_Theraphy_gb = PD_gb.predict(newPTD_test)\n",
    "\n",
    "### Final Predicted Prescribed Theraphy \n",
    "print(predicted_Test_Theraphy_gb)\n",
    "\n",
    "PatientData_Test_new[\"Q2_40\"] = predicted_Test_Theraphy_gb\n",
    "PatientData_Test[\"Q2_40\"] = predicted_Test_Theraphy_gb ### Theraphy Predicted with 85.44% accuracy"
   ]
  },
  {
   "cell_type": "markdown",
   "metadata": {},
   "source": [
    "# Theraphy/ Drug Duration Prediction including Theraphy as IDV"
   ]
  },
  {
   "cell_type": "code",
   "execution_count": null,
   "metadata": {
    "collapsed": true
   },
   "outputs": [],
   "source": [
    "# Now we will have to consider the Drug / theraphy \"Q2_40\" as an independent variable for predicting the duration for which the drug has to be given"
   ]
  },
  {
   "cell_type": "code",
   "execution_count": null,
   "metadata": {
    "collapsed": true
   },
   "outputs": [],
   "source": [
    "Training_Theraphy_vs_Duration = pd.crosstab(PatientData_Training[\"Q2_40\"],PatientData_Training[\"Q2_65\"],\n",
    "            rownames = [\"Actual Theraphy Class\"],\n",
    "            colnames = [\"Predicted Theraphy Class\"])\n",
    "PatientData_Training[\"Q2_65\"].dtypes\n",
    "PatientData_Training.dtypes\n",
    "\n",
    "PD_train_including_theraphy = PatientData_Training.copy()\n",
    "\n",
    "del PD_train_including_theraphy['Date of survey completion']\n",
    "del PD_train_including_theraphy['Q2_05']\n",
    "del PD_train_including_theraphy['Patient ID #']\n",
    "\n",
    "# Dependent Variable (DV) = 'Q2_65'\n",
    "# Independent Variable (IDV) = ALl other variables including Q2_40 - Theraphy Prescribed\n",
    "\n",
    "from sklearn.preprocessing import LabelEncoder\n",
    "var_mod = [\n",
    " 'Q2_40',\n",
    " 'Q2_25',\n",
    " 'Q1_10_2',\n",
    " 'Q3_20',\n",
    " 'Q2_16',\n",
    " 'Q2_20',\n",
    " 'Q1_23',\n",
    " 'Q2_24',\n",
    " 'Q3_30',\n",
    " 'Q1_40',\n",
    " 'Q2_15',\n",
    " 'Q2_10',\n",
    " 'Q3_10',\n",
    " 'Q1_10_3',\n",
    " 'Q2_127',\n",
    " 'Q2_130']\n",
    "le = LabelEncoder()\n",
    "for i in var_mod:\n",
    "    mask = ~PD_train_including_theraphy[i].isnull()\n",
    "    PD_train_including_theraphy[i][mask] = le.fit_transform(PD_train_including_theraphy[i][mask])\n",
    "\n",
    "# Filling \"nan\" with mean of each column\n",
    "PD_train_including_theraphy = PD_train_including_theraphy.fillna(PD_train_including_theraphy.mean()) "
   ]
  },
  {
   "cell_type": "code",
   "execution_count": null,
   "metadata": {
    "collapsed": true
   },
   "outputs": [],
   "source": [
    "# Training - Test Split of \"PD_train_including_theraphy\" data\n",
    "\n",
    "X_PDT_train, X_PDT_test, y_PDT_train, y_PDT_test = \\\n",
    "    train_test_split(PD_train_including_theraphy.iloc[:,0:68], \n",
    "                     PD_train_including_theraphy.iloc[:,68], \n",
    "                     test_size=0.3, random_state= 30)\n",
    "y_PDT_train.value_counts()\n",
    "y_PDT_test.value_counts()"
   ]
  },
  {
   "cell_type": "markdown",
   "metadata": {},
   "source": [
    "# Building KNN on Training data to predict the duration of drug"
   ]
  },
  {
   "cell_type": "code",
   "execution_count": null,
   "metadata": {
    "collapsed": true
   },
   "outputs": [],
   "source": [
    "# Building K Nearest Neighbors model on training data\n",
    "\n",
    "Prescribed_theraphy_duration_knn = KNeighborsClassifier().fit(X_PDT_train,y_PDT_train)\n",
    "\n",
    "# Theraphy Prediction based on the KNN model built on training data\n",
    "predicted_theraphy_duration_knn = Prescribed_theraphy_duration_knn.predict(X_PDT_test)\n",
    "actual_Theraphy_duration_knn = y_PDT_test\n",
    "\n",
    "# Confusion matrix\n",
    "pd.crosstab(actual_Theraphy_duration_knn,predicted_theraphy_duration_knn,\n",
    "            rownames = [\"Actual Theraphy Duration Class\"],\n",
    "            colnames = [\"Predicted Theraphy Duration Class\"])\n",
    "\n",
    "accuracy_score(actual_Theraphy_duration_knn,predicted_theraphy_duration_knn)\n",
    "# 75.27 %"
   ]
  },
  {
   "cell_type": "markdown",
   "metadata": {},
   "source": [
    "# Improving Accuracy with Gradient Boosting"
   ]
  },
  {
   "cell_type": "code",
   "execution_count": null,
   "metadata": {
    "collapsed": true
   },
   "outputs": [],
   "source": [
    "################# Improving the Accuracy with Ensemble Methods - Gradient Boosting ###############\n",
    "from sklearn.ensemble import GradientBoostingClassifier\n",
    "Theraphy_duration_gb = GradientBoostingClassifier().fit(X_PDT_train,y_PDT_train)\n",
    "predicted_Theraphy_duration_nb = Theraphy_duration_gb.predict(X_PDT_test)\n",
    "pd.crosstab(y_PDT_test,predicted_Theraphy_duration_nb,\n",
    "            rownames = [\"Actual Theraphy Class\"],\n",
    "            colnames = [\"Predicted Theraphy Class\"])\n",
    "\n",
    "accuracy_score(y_PDT_test,predicted_Theraphy_duration_nb)\n",
    "# 86.32%                   "
   ]
  },
  {
   "cell_type": "code",
   "execution_count": null,
   "metadata": {
    "collapsed": true
   },
   "outputs": [],
   "source": [
    "# Gradient Boosting has significantly increased the accuracy to 86.32%. \n",
    "# Therefore, we proceed with Gradient Boosting model for predicting the Drug Duration on Test Data"
   ]
  },
  {
   "cell_type": "markdown",
   "metadata": {},
   "source": [
    "# B. Predicting the Duration for which the predicted Drug has to be afdministered"
   ]
  },
  {
   "cell_type": "code",
   "execution_count": null,
   "metadata": {
    "collapsed": true
   },
   "outputs": [],
   "source": [
    "##### Theraphy Duration Prediction on Test data ####\n",
    "\n",
    "PatientData_test_TheraphyDuration = PatientData_Test.copy()\n",
    "\n",
    "del PatientData_test_TheraphyDuration['Date of survey completion']\n",
    "del PatientData_test_TheraphyDuration['Q2_05']\n",
    "del PatientData_test_TheraphyDuration['Patient ID #']\n",
    "\n",
    "# Dependent Variable (DV) = 'Q2_65'\n",
    "# Independent Variable (IDV) = ALl other variables including Q2_40 - Theraphy Prescribed\n",
    "\n",
    "from sklearn.preprocessing import LabelEncoder\n",
    "var_mod = [\n",
    " 'Q2_40',\n",
    " 'Q2_25',\n",
    " 'Q1_10_2',\n",
    " 'Q3_20',\n",
    " 'Q2_16',\n",
    " 'Q2_20',\n",
    " 'Q1_23',\n",
    " 'Q2_24',\n",
    " 'Q3_30',\n",
    " 'Q1_40',\n",
    " 'Q2_15',\n",
    " 'Q2_10',\n",
    " 'Q3_10',\n",
    " 'Q1_10_3',\n",
    " 'Q2_127',\n",
    " 'Q2_130']\n",
    "le = LabelEncoder()\n",
    "for i in var_mod:\n",
    "    mask = ~PatientData_test_TheraphyDuration[i].isnull()\n",
    "    PatientData_test_TheraphyDuration[i][mask] = le.fit_transform(PatientData_test_TheraphyDuration[i][mask])\n",
    "\n",
    "# Filling \"nan\" with mean of each column\n",
    "PatientData_test_TheraphyDuration = PatientData_test_TheraphyDuration.fillna(PatientData_test_TheraphyDuration.mean()) \n",
    "\n",
    "PTD_test_TheraphyDuration = PatientData_test_TheraphyDuration.iloc[:,0:68]\n",
    "\n",
    "predicted_Test_Theraphy_Duration_gb = Theraphy_duration_gb.predict(PTD_test_TheraphyDuration)\n",
    "\n",
    "### Final Predicted Prescribed Theraphy \n",
    "print(predicted_Test_Theraphy_Duration_gb)\n",
    "\n",
    "PatientData_test_TheraphyDuration[\"Q2_65\"] = predicted_Test_Theraphy_Duration_gb\n",
    "PatientData_Test[\"Q2_65\"] = predicted_Test_Theraphy_Duration_gb"
   ]
  },
  {
   "cell_type": "markdown",
   "metadata": {},
   "source": [
    "# Final Predicted Theraphy/Drug and Duration"
   ]
  },
  {
   "cell_type": "code",
   "execution_count": null,
   "metadata": {
    "collapsed": true
   },
   "outputs": [],
   "source": [
    "##### Dataframe of Final Predicted Theraphy and Duration ###############################\n",
    "\n",
    "Final_Predicted_Theraphy_Duration_on_Testdata = PatientData_Test.copy()"
   ]
  }
 ],
 "metadata": {
  "anaconda-cloud": {},
  "kernelspec": {
   "display_name": "Python [default]",
   "language": "python",
   "name": "python3"
  },
  "language_info": {
   "codemirror_mode": {
    "name": "ipython",
    "version": 3
   },
   "file_extension": ".py",
   "mimetype": "text/x-python",
   "name": "python",
   "nbconvert_exporter": "python",
   "pygments_lexer": "ipython3",
   "version": "3.5.2"
  }
 },
 "nbformat": 4,
 "nbformat_minor": 2
}
